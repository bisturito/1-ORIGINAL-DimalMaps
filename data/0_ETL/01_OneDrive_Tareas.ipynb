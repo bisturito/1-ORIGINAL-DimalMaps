{
 "cells": [
  {
   "cell_type": "code",
   "execution_count": 1,
   "metadata": {},
   "outputs": [],
   "source": [
    "import re\n",
    "\n",
    "import numpy as np\n",
    "import pandas as pd\n",
    "import os\n",
    "import unicodedata\n"
   ]
  },
  {
   "cell_type": "code",
   "execution_count": 2,
   "metadata": {},
   "outputs": [
    {
     "name": "stdout",
     "output_type": "stream",
     "text": [
      "C:\\Users\\Administrador.PUESTO09\\Desktop\\Mapas_original\\data\\Sucia\n"
     ]
    }
   ],
   "source": [
    "%cd \"C:\\Users\\Administrador.PUESTO09\\Desktop\\Mapas_original\\data\\Sucia\""
   ]
  },
  {
   "cell_type": "markdown",
   "metadata": {},
   "source": [
    "### Tareas.xlsx -> Tareas-limpio.xlsx(Proyectos)"
   ]
  },
  {
   "cell_type": "code",
   "execution_count": 3,
   "metadata": {},
   "outputs": [],
   "source": [
    "# 1. Carga inicial\n",
    "\n",
    "df_tareas = pd.read_excel('Tareas.xlsx')"
   ]
  },
  {
   "cell_type": "code",
   "execution_count": 4,
   "metadata": {},
   "outputs": [
    {
     "name": "stdout",
     "output_type": "stream",
     "text": [
      "\n",
      "2. VERIFICACIÓN INICIAL DE NULOS\n",
      "------------------------------\n",
      "- CODIGO: 22 nulos\n",
      "- PROYECTO: 0 nulos\n"
     ]
    }
   ],
   "source": [
    "# 2. Verificación inicial de nulos\n",
    "\n",
    "print(\"\\n2. VERIFICACIÓN INICIAL DE NULOS\")\n",
    "print(\"------------------------------\")\n",
    "\n",
    "nulos_iniciales = df_tareas[['CODIGO', 'PROYECTO']].isna().sum()\n",
    "\n",
    "for columna, cantidad in nulos_iniciales.items():\n",
    "  print(f\"- {columna}: {cantidad} nulos\")"
   ]
  },
  {
   "cell_type": "code",
   "execution_count": 5,
   "metadata": {},
   "outputs": [],
   "source": [
    "df_tareas = df_tareas.dropna(subset=['CODIGO'])"
   ]
  },
  {
   "cell_type": "code",
   "execution_count": 7,
   "metadata": {},
   "outputs": [
    {
     "name": "stdout",
     "output_type": "stream",
     "text": [
      "\n",
      "4. LIMPIEZA DE PROYECTO\n",
      "---------------------\n",
      "✓ Acentos removidos de la columna PROYECTO\n"
     ]
    }
   ],
   "source": [
    "# 4. Limpieza de PROYECTO\n",
    "\n",
    "print(\"\\n4. LIMPIEZA DE PROYECTO\")\n",
    "print(\"---------------------\")\n",
    "\n",
    "# Función para limpiar texto\n",
    "\n",
    "def strip_accents(text):\n",
    "  if pd.isna(text):\n",
    "      return text\n",
    "  return ''.join(c for c in unicodedata.normalize('NFD', str(text))\n",
    "                if unicodedata.category(c) != 'Mn')\n",
    "\n",
    "# Aplicar limpieza a PROYECTO\n",
    "\n",
    "df_tareas['PROYECTO'] = df_tareas['PROYECTO'].apply(strip_accents)\n",
    "print(\"✓ Acentos removidos de la columna PROYECTO\")"
   ]
  },
  {
   "cell_type": "code",
   "execution_count": 8,
   "metadata": {},
   "outputs": [
    {
     "name": "stdout",
     "output_type": "stream",
     "text": [
      "\n",
      "5. SELECCIÓN DE COLUMNAS\n",
      "----------------------\n",
      "Columnas seleccionadas: CODIGO, PROYECTO\n"
     ]
    }
   ],
   "source": [
    "# 5. Selección final de columnas\n",
    "\n",
    "print(\"\\n5. SELECCIÓN DE COLUMNAS\")\n",
    "print(\"----------------------\")\n",
    "\n",
    "columnas_finales = ['CODIGO', 'PROYECTO']\n",
    "\n",
    "df_tareas = df_tareas[columnas_finales]\n",
    "print(f\"Columnas seleccionadas: {', '.join(columnas_finales)}\")\n"
   ]
  },
  {
   "cell_type": "code",
   "execution_count": 9,
   "metadata": {},
   "outputs": [],
   "source": [
    "# convertir CODIGO en int64\n",
    "\n",
    "df_tareas['CODIGO'] = df_tareas['CODIGO'].astype('int64')\n"
   ]
  },
  {
   "cell_type": "code",
   "execution_count": 10,
   "metadata": {},
   "outputs": [
    {
     "name": "stdout",
     "output_type": "stream",
     "text": [
      "\n",
      "6. GUARDANDO ARCHIVO LIMPIO\n",
      "-------------------------\n",
      "✓ Archivo guardado exitosamente en '../Limpia/Tareas-limpio.xlsx'\n",
      "\n",
      "Estado final del DataFrame:\n",
      "- Filas: 1841\n",
      "- Columnas: 2\n",
      "\n",
      "Muestra de datos limpios:\n",
      "      CODIGO               PROYECTO\n",
      "1239   62775  Ruta Alejandro Jueves\n",
      "162    41935      Ruta Hugo Viernes\n",
      "135    82185       Ruta Hugo Jueves\n",
      "1304   80258  Ruta Alejandro Sabado\n",
      "249    12894       Ruta Hugo Martes\n",
      "\n",
      "Verificación final de nulos:\n",
      "- CODIGO: 0 nulos\n",
      "- PROYECTO: 0 nulos\n",
      "\n",
      "=== FIN DE LIMPIEZA DE TAREAS ===\n"
     ]
    }
   ],
   "source": [
    "# 6. Guardado de archivo\n",
    "print(\"\\n6. GUARDANDO ARCHIVO LIMPIO\")\n",
    "print(\"-------------------------\")\n",
    "try:\n",
    "  df_tareas.to_excel(\"../Limpia/Tareas-limpio.xlsx\", index=False)\n",
    "  print(\"✓ Archivo guardado exitosamente en '../Limpia/Tareas-limpio.xlsx'\")\n",
    "  \n",
    "  # Verificación final\n",
    "  print(\"\\nEstado final del DataFrame:\")\n",
    "  print(f\"- Filas: {df_tareas.shape[0]}\")\n",
    "  print(f\"- Columnas: {df_tareas.shape[1]}\")\n",
    "  print(\"\\nMuestra de datos limpios:\")\n",
    "  print(df_tareas.sample(min(5, len(df_tareas))))\n",
    "  \n",
    "  print(\"\\nVerificación final de nulos:\")\n",
    "  nulos_finales = df_tareas.isnull().sum()\n",
    "  for columna, cantidad in nulos_finales.items():\n",
    "      print(f\"- {columna}: {cantidad} nulos\")\n",
    "except Exception as e:\n",
    "  print(f\"❌ Error al guardar archivo: {e}\")\n",
    "\n",
    "print(\"\\n=== FIN DE LIMPIEZA DE TAREAS ===\")"
   ]
  },
  {
   "cell_type": "code",
   "execution_count": 11,
   "metadata": {},
   "outputs": [
    {
     "name": "stdout",
     "output_type": "stream",
     "text": [
      "<class 'pandas.core.frame.DataFrame'>\n",
      "Index: 1841 entries, 0 to 1862\n",
      "Data columns (total 2 columns):\n",
      " #   Column    Non-Null Count  Dtype \n",
      "---  ------    --------------  ----- \n",
      " 0   CODIGO    1841 non-null   int64 \n",
      " 1   PROYECTO  1841 non-null   object\n",
      "dtypes: int64(1), object(1)\n",
      "memory usage: 43.1+ KB\n"
     ]
    }
   ],
   "source": [
    "df_tareas.info()"
   ]
  },
  {
   "cell_type": "code",
   "execution_count": 12,
   "metadata": {},
   "outputs": [
    {
     "name": "stdout",
     "output_type": "stream",
     "text": [
      "['Ruta Hugo Lunes' 'Ruta Hugo Martes' 'Ruta Hugo Miercoles'\n",
      " 'Ruta Hugo Jueves' 'Ruta Hugo Viernes' 'Ruta Hugo Sabado'\n",
      " 'Ruta Dario Lunes' 'Ruta Dario Martes' 'Ruta Dario Miercoles'\n",
      " 'Ruta Dario Jueves' 'Ruta Dario Viernes' 'Ruta Dario Sabado'\n",
      " 'Ruta Alejandro Lunes' 'Ruta Alejandro Martes' 'Ruta Alejandro Miercoles'\n",
      " 'Ruta Alejandro Jueves' 'Ruta Alejandro Viernes' 'Ruta Alejandro Sabado'\n",
      " '🗞 Visitas periodicas Martin' '🗞 Visitas Periodicas Dario'\n",
      " '🗞 Visitas periodicas Alejandro' 'Clientes Especiales' '💲Creditos Hugo'\n",
      " '💲Creditos Dario' '💲Creditos Alejandro' '💲Creditos Administracion']\n"
     ]
    }
   ],
   "source": [
    "valores_unicos = df_tareas['PROYECTO'].unique()\n",
    "\n",
    "# Imprimir los valores únicos\n",
    "print(valores_unicos)"
   ]
  },
  {
   "cell_type": "code",
   "execution_count": null,
   "metadata": {},
   "outputs": [],
   "source": []
  },
  {
   "cell_type": "code",
   "execution_count": null,
   "metadata": {},
   "outputs": [],
   "source": []
  }
 ],
 "metadata": {
  "kernelspec": {
   "display_name": "Python 3 (ipykernel)",
   "language": "python",
   "name": "python3"
  },
  "language_info": {
   "codemirror_mode": {
    "name": "ipython",
    "version": 3
   },
   "file_extension": ".py",
   "mimetype": "text/x-python",
   "name": "python",
   "nbconvert_exporter": "python",
   "pygments_lexer": "ipython3",
   "version": "3.8.16"
  }
 },
 "nbformat": 4,
 "nbformat_minor": 4
}

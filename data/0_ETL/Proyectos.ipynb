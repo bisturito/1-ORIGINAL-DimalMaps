{
 "cells": [
  {
   "cell_type": "code",
   "execution_count": 1,
   "id": "66017687-a537-4710-9f17-c79c35655d2d",
   "metadata": {},
   "outputs": [],
   "source": [
    "import pandas as pd\n",
    "import numpy as np\n",
    "from datetime import datetime\n",
    "import logging\n",
    "from sklearn.neighbors import NearestNeighbors\n",
    "import os\n",
    "\n",
    "# Configuración de logging\n",
    "logging.basicConfig(\n",
    "  filename='procesamiento_datos.log',\n",
    "  level=logging.INFO,\n",
    "  format='%(asctime)s - %(levelname)s - %(message)s'\n",
    ")"
   ]
  },
  {
   "cell_type": "code",
   "execution_count": 2,
   "id": "c78d07fd-a9a3-407d-882c-75e5e6a326eb",
   "metadata": {},
   "outputs": [
    {
     "name": "stdout",
     "output_type": "stream",
     "text": [
      "Archivos Excel leídos correctamente.\n"
     ]
    }
   ],
   "source": [
    "# Lectura de archivos Excel\n",
    "try:\n",
    "    df_tareas = pd.read_excel('../Limpia/Tareas-limpio.xlsx')\n",
    "    ubi_cliente = pd.read_excel('../Limpia/Ubicaciones_direcciones.xlsx')\n",
    "    print(\"Archivos Excel leídos correctamente.\")\n",
    "except Exception as e:\n",
    "    print(f\"Error al leer los archivos Excel: {e}\")\n",
    "    exit()"
   ]
  },
  {
   "cell_type": "code",
   "execution_count": 3,
   "id": "b967b3c5-a7a0-4b4e-b546-3a7b1de26d09",
   "metadata": {},
   "outputs": [
    {
     "name": "stdout",
     "output_type": "stream",
     "text": [
      "______ INFO DF_TAREAS ______ \n",
      "           \n",
      "<class 'pandas.core.frame.DataFrame'>\n",
      "RangeIndex: 1863 entries, 0 to 1862\n",
      "Data columns (total 2 columns):\n",
      " #   Column    Non-Null Count  Dtype \n",
      "---  ------    --------------  ----- \n",
      " 0   CODIGO    1863 non-null   int64 \n",
      " 1   PROYECTO  1863 non-null   object\n",
      "dtypes: int64(1), object(1)\n",
      "memory usage: 29.2+ KB\n",
      "           \n",
      "______ INFO UBI_CLIENTE ______ \n",
      "           \n",
      "<class 'pandas.core.frame.DataFrame'>\n",
      "RangeIndex: 730 entries, 0 to 729\n",
      "Data columns (total 6 columns):\n",
      " #   Column     Non-Null Count  Dtype         \n",
      "---  ------     --------------  -----         \n",
      " 0   CODIGO     730 non-null    int64         \n",
      " 1   NOMCLI     729 non-null    object        \n",
      " 2   LATITUD    730 non-null    float64       \n",
      " 3   UBICACIÓN  730 non-null    object        \n",
      " 4   LONGITUD   730 non-null    float64       \n",
      " 5   FECHA      730 non-null    datetime64[ns]\n",
      "dtypes: datetime64[ns](1), float64(2), int64(1), object(2)\n",
      "memory usage: 34.3+ KB\n",
      "           \n"
     ]
    }
   ],
   "source": [
    "print(\"______ INFO DF_TAREAS ______ \")\n",
    "print(\"           \")\n",
    "df_tareas.info()\n",
    "print(\"           \")\n",
    "print(\"______ INFO UBI_CLIENTE ______ \")\n",
    "print(\"           \")\n",
    "ubi_cliente.info()\n",
    "print(\"           \")"
   ]
  },
  {
   "cell_type": "code",
   "execution_count": 4,
   "id": "7c8093ad-956f-4375-a79d-607bee674e2b",
   "metadata": {},
   "outputs": [],
   "source": [
    "proyectos = df_tareas.merge(\n",
    "    ubi_cliente,\n",
    "    on=\"CODIGO\",\n",
    "    how=\"left\"\n",
    ")\n",
    "    \n"
   ]
  },
  {
   "cell_type": "code",
   "execution_count": 10,
   "id": "5bd81417-96e6-4030-8003-2c948faa385d",
   "metadata": {},
   "outputs": [
    {
     "name": "stdout",
     "output_type": "stream",
     "text": [
      "(1866, 6)\n",
      "   CODIGO         PROYECTO                                  NOMCLI    LATITUD  \\\n",
      "0   82196  Ruta Hugo Lunes                   82196,KIOSCO LOS ABUE -34.734363   \n",
      "1   41910  Ruta Hugo Lunes                    41910, MILUCHA ELBIA -34.736270   \n",
      "2   82194  Ruta Hugo Lunes                  82194,POLLERIA OLIMPIA -34.737703   \n",
      "3   82019  Ruta Hugo Lunes   Kiosco (estacion atlantida. gariboti) -34.740466   \n",
      "4   41040  Ruta Hugo Lunes                  41040, PANADERIA MAURI -34.741530   \n",
      "\n",
      "                                           UBICACIÓN   LONGITUD  \n",
      "0  Marcador 36\\n2024/10/18 @ 17:27:14\\nhttp://map... -55.768309  \n",
      "1  Marcador 92\\nlat/lng: (-34.73627,-55.76566)\\n[... -55.765660  \n",
      "2  [http://maps.google.com/?q=-34.737702808342874... -55.764458  \n",
      "3  http://maps.google.com/?q=-34.74046583250509,-... -55.764763  \n",
      "4  Marcador 93\\nlat/lng: (-34.74153,-55.76369)\\n[... -55.763690  \n"
     ]
    }
   ],
   "source": [
    "print(proyectos.shape)  # Debería dar (1863, columnas_totales)\n",
    "print(proyectos.head())"
   ]
  },
  {
   "cell_type": "code",
   "execution_count": 8,
   "id": "74070185-669c-44d6-9128-ae356ee5c7e4",
   "metadata": {},
   "outputs": [
    {
     "ename": "KeyError",
     "evalue": "\"['FECHA'] not found in axis\"",
     "output_type": "error",
     "traceback": [
      "\u001b[1;31m---------------------------------------------------------------------------\u001b[0m",
      "\u001b[1;31mKeyError\u001b[0m                                  Traceback (most recent call last)",
      "Cell \u001b[1;32mIn[8], line 1\u001b[0m\n\u001b[1;32m----> 1\u001b[0m proyectos \u001b[38;5;241m=\u001b[39m \u001b[43mproyectos\u001b[49m\u001b[38;5;241;43m.\u001b[39;49m\u001b[43mdrop\u001b[49m\u001b[43m(\u001b[49m\u001b[43mcolumns\u001b[49m\u001b[38;5;241;43m=\u001b[39;49m\u001b[43m[\u001b[49m\u001b[38;5;124;43m\"\u001b[39;49m\u001b[38;5;124;43mFECHA\u001b[39;49m\u001b[38;5;124;43m\"\u001b[39;49m\u001b[43m]\u001b[49m\u001b[43m)\u001b[49m\n",
      "File \u001b[1;32m~\\anaconda3\\envs\\entorno_python\\lib\\site-packages\\pandas\\core\\frame.py:5258\u001b[0m, in \u001b[0;36mDataFrame.drop\u001b[1;34m(self, labels, axis, index, columns, level, inplace, errors)\u001b[0m\n\u001b[0;32m   5110\u001b[0m \u001b[38;5;28;01mdef\u001b[39;00m \u001b[38;5;21mdrop\u001b[39m(\n\u001b[0;32m   5111\u001b[0m     \u001b[38;5;28mself\u001b[39m,\n\u001b[0;32m   5112\u001b[0m     labels: IndexLabel \u001b[38;5;241m=\u001b[39m \u001b[38;5;28;01mNone\u001b[39;00m,\n\u001b[1;32m   (...)\u001b[0m\n\u001b[0;32m   5119\u001b[0m     errors: IgnoreRaise \u001b[38;5;241m=\u001b[39m \u001b[38;5;124m\"\u001b[39m\u001b[38;5;124mraise\u001b[39m\u001b[38;5;124m\"\u001b[39m,\n\u001b[0;32m   5120\u001b[0m ) \u001b[38;5;241m-\u001b[39m\u001b[38;5;241m>\u001b[39m DataFrame \u001b[38;5;241m|\u001b[39m \u001b[38;5;28;01mNone\u001b[39;00m:\n\u001b[0;32m   5121\u001b[0m \u001b[38;5;250m    \u001b[39m\u001b[38;5;124;03m\"\"\"\u001b[39;00m\n\u001b[0;32m   5122\u001b[0m \u001b[38;5;124;03m    Drop specified labels from rows or columns.\u001b[39;00m\n\u001b[0;32m   5123\u001b[0m \n\u001b[1;32m   (...)\u001b[0m\n\u001b[0;32m   5256\u001b[0m \u001b[38;5;124;03m            weight  1.0     0.8\u001b[39;00m\n\u001b[0;32m   5257\u001b[0m \u001b[38;5;124;03m    \"\"\"\u001b[39;00m\n\u001b[1;32m-> 5258\u001b[0m     \u001b[38;5;28;01mreturn\u001b[39;00m \u001b[38;5;28;43msuper\u001b[39;49m\u001b[43m(\u001b[49m\u001b[43m)\u001b[49m\u001b[38;5;241;43m.\u001b[39;49m\u001b[43mdrop\u001b[49m\u001b[43m(\u001b[49m\n\u001b[0;32m   5259\u001b[0m \u001b[43m        \u001b[49m\u001b[43mlabels\u001b[49m\u001b[38;5;241;43m=\u001b[39;49m\u001b[43mlabels\u001b[49m\u001b[43m,\u001b[49m\n\u001b[0;32m   5260\u001b[0m \u001b[43m        \u001b[49m\u001b[43maxis\u001b[49m\u001b[38;5;241;43m=\u001b[39;49m\u001b[43maxis\u001b[49m\u001b[43m,\u001b[49m\n\u001b[0;32m   5261\u001b[0m \u001b[43m        \u001b[49m\u001b[43mindex\u001b[49m\u001b[38;5;241;43m=\u001b[39;49m\u001b[43mindex\u001b[49m\u001b[43m,\u001b[49m\n\u001b[0;32m   5262\u001b[0m \u001b[43m        \u001b[49m\u001b[43mcolumns\u001b[49m\u001b[38;5;241;43m=\u001b[39;49m\u001b[43mcolumns\u001b[49m\u001b[43m,\u001b[49m\n\u001b[0;32m   5263\u001b[0m \u001b[43m        \u001b[49m\u001b[43mlevel\u001b[49m\u001b[38;5;241;43m=\u001b[39;49m\u001b[43mlevel\u001b[49m\u001b[43m,\u001b[49m\n\u001b[0;32m   5264\u001b[0m \u001b[43m        \u001b[49m\u001b[43minplace\u001b[49m\u001b[38;5;241;43m=\u001b[39;49m\u001b[43minplace\u001b[49m\u001b[43m,\u001b[49m\n\u001b[0;32m   5265\u001b[0m \u001b[43m        \u001b[49m\u001b[43merrors\u001b[49m\u001b[38;5;241;43m=\u001b[39;49m\u001b[43merrors\u001b[49m\u001b[43m,\u001b[49m\n\u001b[0;32m   5266\u001b[0m \u001b[43m    \u001b[49m\u001b[43m)\u001b[49m\n",
      "File \u001b[1;32m~\\anaconda3\\envs\\entorno_python\\lib\\site-packages\\pandas\\core\\generic.py:4549\u001b[0m, in \u001b[0;36mNDFrame.drop\u001b[1;34m(self, labels, axis, index, columns, level, inplace, errors)\u001b[0m\n\u001b[0;32m   4547\u001b[0m \u001b[38;5;28;01mfor\u001b[39;00m axis, labels \u001b[38;5;129;01min\u001b[39;00m axes\u001b[38;5;241m.\u001b[39mitems():\n\u001b[0;32m   4548\u001b[0m     \u001b[38;5;28;01mif\u001b[39;00m labels \u001b[38;5;129;01mis\u001b[39;00m \u001b[38;5;129;01mnot\u001b[39;00m \u001b[38;5;28;01mNone\u001b[39;00m:\n\u001b[1;32m-> 4549\u001b[0m         obj \u001b[38;5;241m=\u001b[39m \u001b[43mobj\u001b[49m\u001b[38;5;241;43m.\u001b[39;49m\u001b[43m_drop_axis\u001b[49m\u001b[43m(\u001b[49m\u001b[43mlabels\u001b[49m\u001b[43m,\u001b[49m\u001b[43m \u001b[49m\u001b[43maxis\u001b[49m\u001b[43m,\u001b[49m\u001b[43m \u001b[49m\u001b[43mlevel\u001b[49m\u001b[38;5;241;43m=\u001b[39;49m\u001b[43mlevel\u001b[49m\u001b[43m,\u001b[49m\u001b[43m \u001b[49m\u001b[43merrors\u001b[49m\u001b[38;5;241;43m=\u001b[39;49m\u001b[43merrors\u001b[49m\u001b[43m)\u001b[49m\n\u001b[0;32m   4551\u001b[0m \u001b[38;5;28;01mif\u001b[39;00m inplace:\n\u001b[0;32m   4552\u001b[0m     \u001b[38;5;28mself\u001b[39m\u001b[38;5;241m.\u001b[39m_update_inplace(obj)\n",
      "File \u001b[1;32m~\\anaconda3\\envs\\entorno_python\\lib\\site-packages\\pandas\\core\\generic.py:4591\u001b[0m, in \u001b[0;36mNDFrame._drop_axis\u001b[1;34m(self, labels, axis, level, errors, only_slice)\u001b[0m\n\u001b[0;32m   4589\u001b[0m         new_axis \u001b[38;5;241m=\u001b[39m axis\u001b[38;5;241m.\u001b[39mdrop(labels, level\u001b[38;5;241m=\u001b[39mlevel, errors\u001b[38;5;241m=\u001b[39merrors)\n\u001b[0;32m   4590\u001b[0m     \u001b[38;5;28;01melse\u001b[39;00m:\n\u001b[1;32m-> 4591\u001b[0m         new_axis \u001b[38;5;241m=\u001b[39m \u001b[43maxis\u001b[49m\u001b[38;5;241;43m.\u001b[39;49m\u001b[43mdrop\u001b[49m\u001b[43m(\u001b[49m\u001b[43mlabels\u001b[49m\u001b[43m,\u001b[49m\u001b[43m \u001b[49m\u001b[43merrors\u001b[49m\u001b[38;5;241;43m=\u001b[39;49m\u001b[43merrors\u001b[49m\u001b[43m)\u001b[49m\n\u001b[0;32m   4592\u001b[0m     indexer \u001b[38;5;241m=\u001b[39m axis\u001b[38;5;241m.\u001b[39mget_indexer(new_axis)\n\u001b[0;32m   4594\u001b[0m \u001b[38;5;66;03m# Case for non-unique axis\u001b[39;00m\n\u001b[0;32m   4595\u001b[0m \u001b[38;5;28;01melse\u001b[39;00m:\n",
      "File \u001b[1;32m~\\anaconda3\\envs\\entorno_python\\lib\\site-packages\\pandas\\core\\indexes\\base.py:6699\u001b[0m, in \u001b[0;36mIndex.drop\u001b[1;34m(self, labels, errors)\u001b[0m\n\u001b[0;32m   6697\u001b[0m \u001b[38;5;28;01mif\u001b[39;00m mask\u001b[38;5;241m.\u001b[39many():\n\u001b[0;32m   6698\u001b[0m     \u001b[38;5;28;01mif\u001b[39;00m errors \u001b[38;5;241m!=\u001b[39m \u001b[38;5;124m\"\u001b[39m\u001b[38;5;124mignore\u001b[39m\u001b[38;5;124m\"\u001b[39m:\n\u001b[1;32m-> 6699\u001b[0m         \u001b[38;5;28;01mraise\u001b[39;00m \u001b[38;5;167;01mKeyError\u001b[39;00m(\u001b[38;5;124mf\u001b[39m\u001b[38;5;124m\"\u001b[39m\u001b[38;5;132;01m{\u001b[39;00m\u001b[38;5;28mlist\u001b[39m(labels[mask])\u001b[38;5;132;01m}\u001b[39;00m\u001b[38;5;124m not found in axis\u001b[39m\u001b[38;5;124m\"\u001b[39m)\n\u001b[0;32m   6700\u001b[0m     indexer \u001b[38;5;241m=\u001b[39m indexer[\u001b[38;5;241m~\u001b[39mmask]\n\u001b[0;32m   6701\u001b[0m \u001b[38;5;28;01mreturn\u001b[39;00m \u001b[38;5;28mself\u001b[39m\u001b[38;5;241m.\u001b[39mdelete(indexer)\n",
      "\u001b[1;31mKeyError\u001b[0m: \"['FECHA'] not found in axis\""
     ]
    }
   ],
   "source": [
    "#proyectos = proyectos.drop(columns=[\"FECHA\"])"
   ]
  },
  {
   "cell_type": "code",
   "execution_count": 11,
   "id": "2bb3894d-7c9d-4c13-b294-770e84806762",
   "metadata": {},
   "outputs": [
    {
     "data": {
      "text/html": [
       "<div>\n",
       "<style scoped>\n",
       "    .dataframe tbody tr th:only-of-type {\n",
       "        vertical-align: middle;\n",
       "    }\n",
       "\n",
       "    .dataframe tbody tr th {\n",
       "        vertical-align: top;\n",
       "    }\n",
       "\n",
       "    .dataframe thead th {\n",
       "        text-align: right;\n",
       "    }\n",
       "</style>\n",
       "<table border=\"1\" class=\"dataframe\">\n",
       "  <thead>\n",
       "    <tr style=\"text-align: right;\">\n",
       "      <th></th>\n",
       "      <th>CODIGO</th>\n",
       "      <th>PROYECTO</th>\n",
       "      <th>NOMCLI</th>\n",
       "      <th>LATITUD</th>\n",
       "      <th>UBICACIÓN</th>\n",
       "      <th>LONGITUD</th>\n",
       "    </tr>\n",
       "  </thead>\n",
       "  <tbody>\n",
       "    <tr>\n",
       "      <th>0</th>\n",
       "      <td>82196</td>\n",
       "      <td>Ruta Hugo Lunes</td>\n",
       "      <td>82196,KIOSCO LOS ABUE</td>\n",
       "      <td>-34.734363</td>\n",
       "      <td>Marcador 36\\n2024/10/18 @ 17:27:14\\nhttp://map...</td>\n",
       "      <td>-55.768309</td>\n",
       "    </tr>\n",
       "    <tr>\n",
       "      <th>1</th>\n",
       "      <td>41910</td>\n",
       "      <td>Ruta Hugo Lunes</td>\n",
       "      <td>41910, MILUCHA ELBIA</td>\n",
       "      <td>-34.736270</td>\n",
       "      <td>Marcador 92\\nlat/lng: (-34.73627,-55.76566)\\n[...</td>\n",
       "      <td>-55.765660</td>\n",
       "    </tr>\n",
       "    <tr>\n",
       "      <th>2</th>\n",
       "      <td>82194</td>\n",
       "      <td>Ruta Hugo Lunes</td>\n",
       "      <td>82194,POLLERIA OLIMPIA</td>\n",
       "      <td>-34.737703</td>\n",
       "      <td>[http://maps.google.com/?q=-34.737702808342874...</td>\n",
       "      <td>-55.764458</td>\n",
       "    </tr>\n",
       "    <tr>\n",
       "      <th>3</th>\n",
       "      <td>82019</td>\n",
       "      <td>Ruta Hugo Lunes</td>\n",
       "      <td>Kiosco (estacion atlantida. gariboti)</td>\n",
       "      <td>-34.740466</td>\n",
       "      <td>http://maps.google.com/?q=-34.74046583250509,-...</td>\n",
       "      <td>-55.764763</td>\n",
       "    </tr>\n",
       "    <tr>\n",
       "      <th>4</th>\n",
       "      <td>41040</td>\n",
       "      <td>Ruta Hugo Lunes</td>\n",
       "      <td>41040, PANADERIA MAURI</td>\n",
       "      <td>-34.741530</td>\n",
       "      <td>Marcador 93\\nlat/lng: (-34.74153,-55.76369)\\n[...</td>\n",
       "      <td>-55.763690</td>\n",
       "    </tr>\n",
       "  </tbody>\n",
       "</table>\n",
       "</div>"
      ],
      "text/plain": [
       "   CODIGO         PROYECTO                                  NOMCLI    LATITUD  \\\n",
       "0   82196  Ruta Hugo Lunes                   82196,KIOSCO LOS ABUE -34.734363   \n",
       "1   41910  Ruta Hugo Lunes                    41910, MILUCHA ELBIA -34.736270   \n",
       "2   82194  Ruta Hugo Lunes                  82194,POLLERIA OLIMPIA -34.737703   \n",
       "3   82019  Ruta Hugo Lunes   Kiosco (estacion atlantida. gariboti) -34.740466   \n",
       "4   41040  Ruta Hugo Lunes                  41040, PANADERIA MAURI -34.741530   \n",
       "\n",
       "                                           UBICACIÓN   LONGITUD  \n",
       "0  Marcador 36\\n2024/10/18 @ 17:27:14\\nhttp://map... -55.768309  \n",
       "1  Marcador 92\\nlat/lng: (-34.73627,-55.76566)\\n[... -55.765660  \n",
       "2  [http://maps.google.com/?q=-34.737702808342874... -55.764458  \n",
       "3  http://maps.google.com/?q=-34.74046583250509,-... -55.764763  \n",
       "4  Marcador 93\\nlat/lng: (-34.74153,-55.76369)\\n[... -55.763690  "
      ]
     },
     "execution_count": 11,
     "metadata": {},
     "output_type": "execute_result"
    }
   ],
   "source": [
    "proyectos.head()"
   ]
  },
  {
   "cell_type": "code",
   "execution_count": null,
   "id": "1637b6e8-00ae-43cd-bdeb-be174f065887",
   "metadata": {},
   "outputs": [],
   "source": [
    "print(\"\\n4. GUARDANDO RESULTADO\")\n",
    "print(\"--------------------\")\n",
    "try:\n",
    "  merged_final_df .to_excel('../Limpia/merged_df.xlsx', index=False)\n",
    "  print(\"✓ Archivo guardado exitosamente\")\n",
    "  \n",
    "  print(\"\\nVerificación final de nulos:\")\n",
    "  nulos = merged_final_df .isnull().sum()\n",
    "  for columna, cantidad in nulos.items():\n",
    "      print(f\"- {columna}: {cantidad} nulos\")\n",
    "except Exception as e:\n",
    "  print(f\"❌ Error al guardar: {e}\")\n",
    "\n",
    "print(\"\\n=== FIN DE PROCESO DE MERGES ===\")"
   ]
  }
 ],
 "metadata": {
  "kernelspec": {
   "display_name": "Python 3 (ipykernel)",
   "language": "python",
   "name": "python3"
  },
  "language_info": {
   "codemirror_mode": {
    "name": "ipython",
    "version": 3
   },
   "file_extension": ".py",
   "mimetype": "text/x-python",
   "name": "python",
   "nbconvert_exporter": "python",
   "pygments_lexer": "ipython3",
   "version": "3.8.16"
  }
 },
 "nbformat": 4,
 "nbformat_minor": 5
}
